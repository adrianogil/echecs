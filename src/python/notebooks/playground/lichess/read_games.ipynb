{
 "cells": [
  {
   "cell_type": "code",
   "execution_count": 2,
   "metadata": {},
   "outputs": [],
   "source": [
    "import berserk"
   ]
  },
  {
   "cell_type": "code",
   "execution_count": 4,
   "metadata": {},
   "outputs": [],
   "source": [
    "API_TOKEN = \"\"\n",
    "session = berserk.TokenSession(API_TOKEN)\n",
    "client = berserk.Client(session=session)"
   ]
  },
  {
   "cell_type": "code",
   "execution_count": 6,
   "metadata": {},
   "outputs": [
    {
     "data": {
      "text/plain": [
       "<generator object Games.export_by_player at 0x10ba19510>"
      ]
     },
     "execution_count": 6,
     "metadata": {},
     "output_type": "execute_result"
    }
   ],
   "source": [
    "client.games.export_by_player('mrgilchess')"
   ]
  },
  {
   "cell_type": "code",
   "execution_count": 7,
   "metadata": {},
   "outputs": [],
   "source": [
    "games = list(_)"
   ]
  },
  {
   "cell_type": "code",
   "execution_count": 8,
   "metadata": {},
   "outputs": [
    {
     "data": {
      "text/plain": [
       "210"
      ]
     },
     "execution_count": 8,
     "metadata": {},
     "output_type": "execute_result"
    }
   ],
   "source": [
    "len(games)"
   ]
  },
  {
   "cell_type": "code",
   "execution_count": 9,
   "metadata": {},
   "outputs": [
    {
     "data": {
      "text/plain": [
       "{'id': 'WuoECKJ9',\n",
       " 'rated': True,\n",
       " 'variant': 'standard',\n",
       " 'speed': 'rapid',\n",
       " 'perf': 'rapid',\n",
       " 'createdAt': datetime.datetime(2022, 7, 2, 1, 44, 25, 168000, tzinfo=datetime.timezone.utc),\n",
       " 'lastMoveAt': datetime.datetime(2022, 7, 2, 1, 52, 29, 839000, tzinfo=datetime.timezone.utc),\n",
       " 'status': 'resign',\n",
       " 'players': {'white': {'user': {'name': 'mrgilchess', 'id': 'mrgilchess'},\n",
       "   'rating': 1470,\n",
       "   'ratingDiff': 21},\n",
       "  'black': {'user': {'name': 'treintaitres', 'id': 'treintaitres'},\n",
       "   'rating': 1485,\n",
       "   'ratingDiff': -6}},\n",
       " 'winner': 'white',\n",
       " 'moves': 'e4 e5 Nf3 Bc5 d4 exd4 Nxd4 d6 Be2 Nf6 O-O Nc6 Nxc6 bxc6 Nc3 a6 Bg5 h6 Bxf6 Qxf6 e5 dxe5 Ne4 Qe7 Bg4 Bxg4 Qxg4 O-O Rad1 Bd4 Rd3 Rab8 b3 c5 Rg3 g5 Qf5 Rb6 c3 Bxc3 Nxc3 Rf6 Nd5',\n",
       " 'clock': {'initial': 600, 'increment': 0, 'totalTime': 600}}"
      ]
     },
     "execution_count": 9,
     "metadata": {},
     "output_type": "execute_result"
    }
   ],
   "source": [
    "games[0]"
   ]
  },
  {
   "cell_type": "code",
   "execution_count": 10,
   "metadata": {},
   "outputs": [],
   "source": []
  },
  {
   "cell_type": "code",
   "execution_count": null,
   "metadata": {},
   "outputs": [],
   "source": []
  }
 ],
 "metadata": {
  "kernelspec": {
   "display_name": "Python 3.9.6 64-bit ('3.9.6')",
   "language": "python",
   "name": "python3"
  },
  "language_info": {
   "codemirror_mode": {
    "name": "ipython",
    "version": 3
   },
   "file_extension": ".py",
   "mimetype": "text/x-python",
   "name": "python",
   "nbconvert_exporter": "python",
   "pygments_lexer": "ipython3",
   "version": "3.9.6"
  },
  "orig_nbformat": 4,
  "vscode": {
   "interpreter": {
    "hash": "0f91781d390579f1e0a53b9c764010bcd79ad814effc4ea89daf341f68622cb0"
   }
  }
 },
 "nbformat": 4,
 "nbformat_minor": 2
}
