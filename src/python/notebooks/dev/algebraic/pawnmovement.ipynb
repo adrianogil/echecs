{
 "metadata": {
  "language_info": {
   "codemirror_mode": {
    "name": "ipython",
    "version": 3
   },
   "file_extension": ".py",
   "mimetype": "text/x-python",
   "name": "python",
   "nbconvert_exporter": "python",
   "pygments_lexer": "ipython3",
   "version": "3.8.5-final"
  },
  "orig_nbformat": 2,
  "kernelspec": {
   "name": "python3",
   "display_name": "Python 3.8.5 64-bit ('echecs-3.8.5')",
   "metadata": {
    "interpreter": {
     "hash": "8c1565e217023a3898f9f487eccb731a23b6d5a912756d5931f158492af29301"
    }
   }
  }
 },
 "nbformat": 4,
 "nbformat_minor": 2,
 "cells": [
  {
   "source": [
    "# Parsing Pawn Movement"
   ],
   "cell_type": "markdown",
   "metadata": {}
  },
  {
   "cell_type": "code",
   "execution_count": 1,
   "metadata": {},
   "outputs": [],
   "source": [
    "from echecs.logics.chessboard import ChessBoard"
   ]
  },
  {
   "cell_type": "code",
   "execution_count": 2,
   "metadata": {},
   "outputs": [],
   "source": [
    "b  = ChessBoard()"
   ]
  },
  {
   "cell_type": "code",
   "execution_count": 3,
   "metadata": {},
   "outputs": [
    {
     "output_type": "stream",
     "name": "stdout",
     "text": [
      "R N B Q K B N R \nP P P P P P P P \n. . . . . . . . \n. . . . . . . . \n. . . . . . . . \n. . . . . . . . \np p p p p p p p \nr n b q k b n r \n\n"
     ]
    }
   ],
   "source": [
    "print(b)"
   ]
  },
  {
   "cell_type": "code",
   "execution_count": 4,
   "metadata": {},
   "outputs": [],
   "source": [
    "b.move('d4')"
   ]
  },
  {
   "cell_type": "code",
   "execution_count": 5,
   "metadata": {},
   "outputs": [
    {
     "output_type": "stream",
     "name": "stdout",
     "text": [
      "R N B Q K B N R \nP P P P P P P P \n. . . . . . . . \n. . . . . . . . \n. . . p . . . . \n. . . . . . . . \np p p . p p p p \nr n b q k b n r \n\n"
     ]
    }
   ],
   "source": [
    "print(b)"
   ]
  },
  {
   "cell_type": "code",
   "execution_count": 6,
   "metadata": {},
   "outputs": [
    {
     "output_type": "stream",
     "name": "stdout",
     "text": [
      "R N B Q K B N R \nP P P P P P P P \n. . . . . . . . \n. . . . . . . . \n. . . p p . . . \n. . . . . . . . \np p p . . p p p \nr n b q k b n r \n\n"
     ]
    }
   ],
   "source": [
    "b.move('e4')\n",
    "print(b)"
   ]
  },
  {
   "cell_type": "code",
   "execution_count": 7,
   "metadata": {},
   "outputs": [
    {
     "output_type": "stream",
     "name": "stdout",
     "text": [
      "R N B Q K B N R \nP P P . P P P P \n. . . . . . . . \n. . . P . . . . \n. . . p p . . . \n. . . . . . . . \np p p . . p p p \nr n b q k b n r \n\n"
     ]
    }
   ],
   "source": [
    "b.move('d5', color='black')\n",
    "print(b)"
   ]
  },
  {
   "cell_type": "code",
   "execution_count": 8,
   "metadata": {},
   "outputs": [
    {
     "output_type": "stream",
     "name": "stdout",
     "text": [
      "Captured piece P at (3, 4)\nR N B Q K B N R \nP P P . P P P P \n. . . . . . . . \n. . . p . . . . \n. . . p . . . . \n. . . . . . . . \np p p . . p p p \nr n b q k b n r \n\n"
     ]
    }
   ],
   "source": [
    "b.move('exd5')\n",
    "print(b)"
   ]
  },
  {
   "cell_type": "code",
   "execution_count": 9,
   "metadata": {},
   "outputs": [
    {
     "output_type": "stream",
     "name": "stdout",
     "text": [
      "R N B Q K B N R \nP P P . P P P P \n. . . . . . . . \n. . . p . . . . \n. . . p . . . . \n. . n . . . . . \np p p . . p p p \nr . b q k b n r \n\n"
     ]
    }
   ],
   "source": [
    "b.move('Nc3')\n",
    "print(b)"
   ]
  }
 ]
}